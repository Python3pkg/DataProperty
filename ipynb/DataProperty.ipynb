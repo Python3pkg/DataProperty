{
 "cells": [
  {
   "cell_type": "code",
   "execution_count": 1,
   "metadata": {
    "collapsed": true
   },
   "outputs": [],
   "source": [
    "import datetime\n",
    "from dataproperty import DataProperty, PropertyExtractor, Typecode\n",
    "import six\n",
    "\n",
    "dt = datetime.datetime(2017, 1, 1, 0, 0, 0)\n",
    "inf = float(\"inf\")\n",
    "nan = float(\"nan\")\n",
    "data_matrix = [\n",
    "    [1, 1.1,  \"aa\",   1,   1,     True,   inf,   nan,   dt],\n",
    "    [2, 2.2,  \"bbb\",  2.2, 2.2,   False,  \"inf\", \"nan\", dt],\n",
    "    [3, 3.33, \"cccc\", -3,  \"ccc\", \"true\", inf,   \"NAN\", \"2017-01-01T01:23:45+0900\"],\n",
    "]\n",
    "prop_extractor = PropertyExtractor()"
   ]
  },
  {
   "cell_type": "code",
   "execution_count": 2,
   "metadata": {
    "collapsed": false
   },
   "outputs": [
    {
     "data": {
      "text/plain": [
       "data=-1.0, typename=FLOAT, align=right, str_len=4, integer_digits=1, decimal_places=1, additional_format_len=1"
      ]
     },
     "execution_count": 2,
     "metadata": {},
     "output_type": "execute_result"
    }
   ],
   "source": [
    "DataProperty(-1.0)"
   ]
  },
  {
   "cell_type": "code",
   "execution_count": 3,
   "metadata": {
    "collapsed": false
   },
   "outputs": [
    {
     "data": {
      "text/plain": [
       "data=123456789, typename=INTEGER, align=right, str_len=9, integer_digits=9, decimal_places=0, additional_format_len=0"
      ]
     },
     "execution_count": 3,
     "metadata": {},
     "output_type": "execute_result"
    }
   ],
   "source": [
    "DataProperty(123456789)"
   ]
  },
  {
   "cell_type": "code",
   "execution_count": 4,
   "metadata": {
    "collapsed": false,
    "scrolled": true
   },
   "outputs": [
    {
     "data": {
      "text/plain": [
       "data=abcdefgh, typename=STRING, align=left, str_len=8, integer_digits=nan, decimal_places=nan, additional_format_len=0"
      ]
     },
     "execution_count": 4,
     "metadata": {},
     "output_type": "execute_result"
    }
   ],
   "source": [
    "DataProperty(\"abcdefgh\")"
   ]
  },
  {
   "cell_type": "code",
   "execution_count": 5,
   "metadata": {
    "collapsed": false
   },
   "outputs": [
    {
     "data": {
      "text/plain": [
       "data=2017-01-01 00:00:00, typename=DATETIME, align=left, str_len=19, integer_digits=nan, decimal_places=nan, additional_format_len=0"
      ]
     },
     "execution_count": 5,
     "metadata": {},
     "output_type": "execute_result"
    }
   ],
   "source": [
    "import datetime\n",
    "DataProperty(datetime.datetime(2017, 1, 1, 0, 0, 0))"
   ]
  },
  {
   "cell_type": "code",
   "execution_count": 6,
   "metadata": {
    "collapsed": false
   },
   "outputs": [
    {
     "data": {
      "text/plain": [
       "data=2017-01-01 01:23:45+09:00, typename=DATETIME, align=left, str_len=24, integer_digits=nan, decimal_places=nan, additional_format_len=0"
      ]
     },
     "execution_count": 6,
     "metadata": {},
     "output_type": "execute_result"
    }
   ],
   "source": [
    "DataProperty(\"2017-01-01T01:23:45+0900\")"
   ]
  },
  {
   "cell_type": "code",
   "execution_count": 7,
   "metadata": {
    "collapsed": false
   },
   "outputs": [
    {
     "data": {
      "text/plain": [
       "data=True, typename=BOOL, align=left, str_len=4, integer_digits=nan, decimal_places=nan, additional_format_len=0"
      ]
     },
     "execution_count": 7,
     "metadata": {},
     "output_type": "execute_result"
    }
   ],
   "source": [
    "DataProperty(True)"
   ]
  },
  {
   "cell_type": "code",
   "execution_count": 8,
   "metadata": {
    "collapsed": false,
    "scrolled": false
   },
   "outputs": [
    {
     "name": "stdout",
     "output_type": "stream",
     "text": [
      "---------- typename ----------\n",
      "['INTEGER', 'FLOAT', 'STRING', 'INTEGER', 'INTEGER', 'BOOL', 'INFINITY', 'NAN', 'DATETIME']\n",
      "['INTEGER', 'FLOAT', 'STRING', 'FLOAT', 'FLOAT', 'BOOL', 'INFINITY', 'NAN', 'DATETIME']\n",
      "['INTEGER', 'FLOAT', 'STRING', 'INTEGER', 'STRING', 'BOOL', 'INFINITY', 'NAN', 'DATETIME']\n",
      "\n",
      "---------- data ----------\n",
      "[1, 1.1, 'aa', 1, 1, True, inf, nan, datetime.datetime(2017, 1, 1, 0, 0)]\n",
      "[2, 2.2, 'bbb', 2.2, 2.2, False, inf, nan, datetime.datetime(2017, 1, 1, 0, 0)]\n",
      "[3, 3.33, 'cccc', -3, 'ccc', True, inf, nan, datetime.datetime(2017, 1, 1, 1, 23, 45, tzinfo=tzoffset(None, 32400))]\n",
      "\n",
      "---------- align ----------\n",
      "[right, right, left, right, right, left, left, left, left]\n",
      "[right, right, left, right, right, left, left, left, left]\n",
      "[right, right, left, right, left, left, left, left, left]\n",
      "\n",
      "---------- str_len ----------\n",
      "[1, 3, 2, 1, 1, 4, 3, 3, 19]\n",
      "[1, 3, 3, 3, 3, 5, 3, 3, 19]\n",
      "[1, 4, 4, 2, 3, 4, 3, 3, 24]\n",
      "\n",
      "---------- integer_digits ----------\n",
      "[1, 1, nan, 1, 1, nan, nan, nan, nan]\n",
      "[1, 1, nan, 1, 1, nan, nan, nan, nan]\n",
      "[1, 1, nan, 1, nan, nan, nan, nan, nan]\n",
      "\n",
      "---------- decimal_places ----------\n",
      "[0, 1, nan, 0, 0, nan, nan, nan, nan]\n",
      "[0, 1, nan, 1, 1, nan, nan, nan, nan]\n",
      "[0, 2, nan, 0, nan, nan, nan, nan, nan]\n"
     ]
    }
   ],
   "source": [
    "def display_dataprop(prop_matrix, name):\n",
    "    six.print_()\n",
    "    six.print_(\"---------- %s ----------\" % (name))\n",
    "    for prop_list in prop_matrix:\n",
    "        six.print_([getattr(prop, name) for prop in prop_list])\n",
    "\n",
    "prop_extractor.data_matrix = data_matrix\n",
    "prop_matrix = prop_extractor.extract_data_property_matrix()\n",
    "\n",
    "six.print_(\"---------- typename ----------\")\n",
    "for prop_list in prop_matrix:\n",
    "    six.print_([Typecode.get_typename(prop.typecode) for prop in prop_list])\n",
    "\n",
    "display_dataprop(prop_matrix, \"data\")\n",
    "display_dataprop(prop_matrix, \"align\")\n",
    "display_dataprop(prop_matrix, \"str_len\")\n",
    "display_dataprop(prop_matrix, \"integer_digits\")\n",
    "display_dataprop(prop_matrix, \"decimal_places\")"
   ]
  },
  {
   "cell_type": "code",
   "execution_count": 9,
   "metadata": {
    "collapsed": false,
    "scrolled": false
   },
   "outputs": [
    {
     "name": "stdout",
     "output_type": "stream",
     "text": [
      "---------- typename ----------\n",
      "['INTEGER', 'FLOAT', 'STRING', 'FLOAT', 'STRING', 'BOOL', 'INFINITY', 'NAN', 'DATETIME']\n",
      "\n",
      "---------- align ----------\n",
      "[right, right, left, right, left, left, left, left, left]\n",
      "\n",
      "---------- padding_len ----------\n",
      "[3, 5, 4, 4, 3, 5, 3, 3, 24]\n",
      "\n",
      "---------- decimal_places ----------\n",
      "[0, 2, nan, 1, 1, nan, nan, nan, nan]\n"
     ]
    }
   ],
   "source": [
    "def display_colprop(prop_list, name):\n",
    "    six.print_()\n",
    "    six.print_(\"---------- %s ----------\" % (name))\n",
    "    six.print_([getattr(prop, name) for prop in prop_list])\n",
    "\n",
    "prop_extractor.header_list = [\n",
    "    \"int\", \"float\", \"str\", \"num\", \"mix\", \"bool\", \"inf\", \"nan\", \"time\"]\n",
    "prop_extractor.data_matrix = data_matrix\n",
    "col_prop_list = prop_extractor.extract_column_property_list()\n",
    "\n",
    "six.print_(\"---------- typename ----------\")\n",
    "six.print_([Typecode.get_typename(prop.typecode) for prop in col_prop_list])\n",
    "\n",
    "display_colprop(col_prop_list, \"align\")\n",
    "display_colprop(col_prop_list, \"padding_len\")\n",
    "display_colprop(col_prop_list, \"decimal_places\")"
   ]
  },
  {
   "cell_type": "code",
   "execution_count": 10,
   "metadata": {
    "collapsed": false,
    "scrolled": false
   },
   "outputs": [
    {
     "name": "stdout",
     "output_type": "stream",
     "text": [
      "row=0, col=0: data=1, typename=INTEGER, align=right, str_len=1, integer_digits=1, decimal_places=0, additional_format_len=0\n",
      "row=0, col=1: data=1.1, typename=FLOAT, align=right, str_len=3, integer_digits=1, decimal_places=1, additional_format_len=0\n",
      "row=0, col=2: data=aa, typename=STRING, align=left, str_len=2, integer_digits=nan, decimal_places=nan, additional_format_len=0\n",
      "row=0, col=3: data=1, typename=INTEGER, align=right, str_len=1, integer_digits=1, decimal_places=0, additional_format_len=0\n",
      "row=0, col=4: data=1, typename=INTEGER, align=right, str_len=1, integer_digits=1, decimal_places=0, additional_format_len=0\n",
      "row=0, col=5: data=True, typename=BOOL, align=left, str_len=4, integer_digits=nan, decimal_places=nan, additional_format_len=0\n",
      "row=0, col=6: data=inf, typename=INFINITY, align=left, str_len=3, integer_digits=nan, decimal_places=nan, additional_format_len=0\n",
      "row=0, col=7: data=nan, typename=NAN, align=left, str_len=3, integer_digits=nan, decimal_places=nan, additional_format_len=0\n",
      "row=0, col=8: data=2017-01-01 00:00:00, typename=DATETIME, align=left, str_len=19, integer_digits=nan, decimal_places=nan, additional_format_len=0\n",
      "row=1, col=0: data=2, typename=INTEGER, align=right, str_len=1, integer_digits=1, decimal_places=0, additional_format_len=0\n",
      "row=1, col=1: data=2.2, typename=FLOAT, align=right, str_len=3, integer_digits=1, decimal_places=1, additional_format_len=0\n",
      "row=1, col=2: data=bbb, typename=STRING, align=left, str_len=3, integer_digits=nan, decimal_places=nan, additional_format_len=0\n",
      "row=1, col=3: data=2.2, typename=FLOAT, align=right, str_len=3, integer_digits=1, decimal_places=1, additional_format_len=0\n",
      "row=1, col=4: data=2.2, typename=FLOAT, align=right, str_len=3, integer_digits=1, decimal_places=1, additional_format_len=0\n",
      "row=1, col=5: data=False, typename=BOOL, align=left, str_len=5, integer_digits=nan, decimal_places=nan, additional_format_len=0\n",
      "row=1, col=6: data=inf, typename=INFINITY, align=left, str_len=3, integer_digits=nan, decimal_places=nan, additional_format_len=0\n",
      "row=1, col=7: data=nan, typename=NAN, align=left, str_len=3, integer_digits=nan, decimal_places=nan, additional_format_len=0\n",
      "row=1, col=8: data=2017-01-01 00:00:00, typename=DATETIME, align=left, str_len=19, integer_digits=nan, decimal_places=nan, additional_format_len=0\n",
      "row=2, col=0: data=3, typename=INTEGER, align=right, str_len=1, integer_digits=1, decimal_places=0, additional_format_len=0\n",
      "row=2, col=1: data=3.33, typename=FLOAT, align=right, str_len=4, integer_digits=1, decimal_places=2, additional_format_len=0\n",
      "row=2, col=2: data=cccc, typename=STRING, align=left, str_len=4, integer_digits=nan, decimal_places=nan, additional_format_len=0\n",
      "row=2, col=3: data=-3, typename=INTEGER, align=right, str_len=2, integer_digits=1, decimal_places=0, additional_format_len=1\n",
      "row=2, col=4: data=ccc, typename=STRING, align=left, str_len=3, integer_digits=nan, decimal_places=nan, additional_format_len=0\n",
      "row=2, col=5: data=True, typename=BOOL, align=left, str_len=4, integer_digits=nan, decimal_places=nan, additional_format_len=0\n",
      "row=2, col=6: data=inf, typename=INFINITY, align=left, str_len=3, integer_digits=nan, decimal_places=nan, additional_format_len=0\n",
      "row=2, col=7: data=nan, typename=NAN, align=left, str_len=3, integer_digits=nan, decimal_places=nan, additional_format_len=0\n",
      "row=2, col=8: data=2017-01-01 01:23:45+09:00, typename=DATETIME, align=left, str_len=24, integer_digits=nan, decimal_places=nan, additional_format_len=0\n"
     ]
    }
   ],
   "source": [
    "prop_extractor.data_matrix = data_matrix\n",
    "prop_matrix = prop_extractor.extract_data_property_matrix()\n",
    "\n",
    "for row, prop_list in enumerate(prop_matrix):\n",
    "    for col, prop in enumerate(prop_list):\n",
    "        six.print_(\"row=%d, col=%d: \" % (row, col) + str(prop))"
   ]
  },
  {
   "cell_type": "code",
   "execution_count": 11,
   "metadata": {
    "collapsed": false
   },
   "outputs": [
    {
     "name": "stdout",
     "output_type": "stream",
     "text": [
      "col=0: typename=INTEGER, align=right, padding_len=3, integer_digits=(min=1, max=1), decimal_places=(min=0, max=0), additional_format_len=(min=0, max=0)\n",
      "col=1: typename=FLOAT, align=right, padding_len=5, integer_digits=(min=1, max=1), decimal_places=(min=1, max=2), additional_format_len=(min=0, max=0)\n",
      "col=2: typename=STRING, align=left, padding_len=4, integer_digits=(min=None, max=None), decimal_places=(min=None, max=None), additional_format_len=(min=0, max=0)\n",
      "col=3: typename=FLOAT, align=right, padding_len=4, integer_digits=(min=1, max=1), decimal_places=(min=0, max=1), additional_format_len=(min=0, max=1)\n",
      "col=4: typename=STRING, align=left, padding_len=3, integer_digits=(min=1, max=1), decimal_places=(min=0, max=1), additional_format_len=(min=0, max=0)\n",
      "col=5: typename=BOOL, align=left, padding_len=5, integer_digits=(min=None, max=None), decimal_places=(min=None, max=None), additional_format_len=(min=0, max=0)\n",
      "col=6: typename=INFINITY, align=left, padding_len=3, integer_digits=(min=None, max=None), decimal_places=(min=None, max=None), additional_format_len=(min=0, max=0)\n",
      "col=7: typename=NAN, align=left, padding_len=3, integer_digits=(min=None, max=None), decimal_places=(min=None, max=None), additional_format_len=(min=0, max=0)\n",
      "col=8: typename=DATETIME, align=left, padding_len=24, integer_digits=(min=None, max=None), decimal_places=(min=None, max=None), additional_format_len=(min=0, max=0)\n"
     ]
    }
   ],
   "source": [
    "prop_extractor.header_list = [\n",
    "    \"int\", \"float\", \"str\", \"num\", \"mix\", \"bool\", \"inf\", \"nan\", \"time\"]\n",
    "prop_extractor.data_matrix = data_matrix\n",
    "col_prop_list = prop_extractor.extract_column_property_list()\n",
    "\n",
    "for col, col_prop in enumerate(col_prop_list):\n",
    "    six.print_(\"col=%d: \" % (col) + str(col_prop))"
   ]
  },
  {
   "cell_type": "code",
   "execution_count": null,
   "metadata": {
    "collapsed": true
   },
   "outputs": [],
   "source": []
  }
 ],
 "metadata": {
  "kernelspec": {
   "display_name": "Python 3",
   "language": "python",
   "name": "python3"
  },
  "language_info": {
   "codemirror_mode": {
    "name": "ipython",
    "version": 3
   },
   "file_extension": ".py",
   "mimetype": "text/x-python",
   "name": "python",
   "nbconvert_exporter": "python",
   "pygments_lexer": "ipython3",
   "version": "3.5.2"
  }
 },
 "nbformat": 4,
 "nbformat_minor": 0
}
