{
 "cells": [
  {
   "cell_type": "code",
   "execution_count": null,
   "metadata": {
    "collapsed": true
   },
   "outputs": [],
   "source": [
    "from dataproperty import PropertyExtractor, Typecode\n",
    "import six"
   ]
  },
  {
   "cell_type": "code",
   "execution_count": 10,
   "metadata": {
    "collapsed": false
   },
   "outputs": [
    {
     "name": "stdout",
     "output_type": "stream",
     "text": [
      "---------- typename ----------\n",
      "['INT', 'FLOAT', 'STRING', 'INT', 'INT']\n",
      "['INT', 'FLOAT', 'STRING', 'FLOAT', 'FLOAT']\n",
      "['INT', 'FLOAT', 'STRING', 'INT', 'STRING']\n",
      "\n",
      "---------- data ----------\n",
      "[1, 1.1, 'aa', 1, 1]\n",
      "[2, 2.2, 'bbb', 2.2, 2.2]\n",
      "[3, 3.33, 'cccc', -3, 'ccc']\n",
      "\n",
      "---------- align ----------\n",
      "[right, right, left, right, right]\n",
      "[right, right, left, right, right]\n",
      "[right, right, left, right, left]\n",
      "\n",
      "---------- str_len ----------\n",
      "[1, 3, 2, 1, 1]\n",
      "[1, 3, 3, 3, 3]\n",
      "[1, 4, 4, 2, 3]\n",
      "\n",
      "---------- integer_digits ----------\n",
      "[1, 1, nan, 1, 1]\n",
      "[1, 1, nan, 1, 1]\n",
      "[1, 1, nan, 1, nan]\n",
      "\n",
      "---------- decimal_places ----------\n",
      "[0, 1, nan, 0, 0]\n",
      "[0, 1, nan, 1, 1]\n",
      "[0, 2, nan, 0, nan]\n"
     ]
    }
   ],
   "source": [
    "def display_dataprop(prop_matrix, name):\n",
    "    six.print_()\n",
    "    six.print_(\"---------- %s ----------\" % (name))\n",
    "    for prop_list in prop_matrix:\n",
    "        six.print_([getattr(prop, name) for prop in prop_list])\n",
    "\n",
    "data_matrix = [\n",
    "    [1, 1.1, \"aa\",  1,   1],\n",
    "    [2, 2.2, \"bbb\", 2.2, 2.2],\n",
    "    [3, 3.33, \"cccc\", -3, \"ccc\"],\n",
    "]\n",
    "prop_matrix = PropertyExtractor.extract_data_property_matrix(data_matrix)\n",
    "\n",
    "six.print_(\"---------- typename ----------\")\n",
    "for prop_list in prop_matrix:\n",
    "    six.print_([Typecode.get_typename(prop.typecode) for prop in prop_list])\n",
    "\n",
    "display_dataprop(prop_matrix, \"data\")\n",
    "display_dataprop(prop_matrix, \"align\")\n",
    "display_dataprop(prop_matrix, \"str_len\")\n",
    "display_dataprop(prop_matrix, \"integer_digits\")\n",
    "display_dataprop(prop_matrix, \"decimal_places\")"
   ]
  },
  {
   "cell_type": "code",
   "execution_count": 11,
   "metadata": {
    "collapsed": false,
    "scrolled": true
   },
   "outputs": [
    {
     "name": "stdout",
     "output_type": "stream",
     "text": [
      "---------- typename ----------\n",
      "['INT', 'FLOAT', 'STRING', 'FLOAT', 'STRING']\n",
      "\n",
      "---------- align ----------\n",
      "[right, right, left, right, left]\n",
      "\n",
      "---------- padding_len ----------\n",
      "[3, 5, 4, 3, 3]\n",
      "\n",
      "---------- decimal_places ----------\n",
      "[nan, 2, nan, 1, 1]\n"
     ]
    }
   ],
   "source": [
    "def display_colprop(prop_list, name):\n",
    "    six.print_()\n",
    "    six.print_(\"---------- %s ----------\" % (name))\n",
    "    six.print_([getattr(prop, name) for prop in prop_list])\n",
    "\n",
    "header_list = [\"int\", \"float\", \"str\", \"num\", \"mix\"]\n",
    "data_matrix = [\n",
    "    [1, 1.1, \"aa\",  1,   1],\n",
    "    [2, 2.2, \"bbb\", 2.2, 2.2],\n",
    "    [3, 3.33, \"cccc\", -3, \"ccc\"],\n",
    "]\n",
    "col_prop_list = PropertyExtractor.extract_column_property_list(header_list, data_matrix)\n",
    "\n",
    "six.print_(\"---------- typename ----------\")\n",
    "six.print_([Typecode.get_typename(prop.typecode) for prop in col_prop_list])\n",
    "\n",
    "display_colprop(col_prop_list, \"align\")\n",
    "display_colprop(col_prop_list, \"padding_len\")\n",
    "display_colprop(col_prop_list, \"decimal_places\")"
   ]
  },
  {
   "cell_type": "code",
   "execution_count": 7,
   "metadata": {
    "collapsed": false
   },
   "outputs": [
    {
     "name": "stdout",
     "output_type": "stream",
     "text": [
      "row=0, col=0: data=1, typename=INT, align=right, str_len=1, integer_digits=1, decimal_places=0, additional_format_len=0\n",
      "row=0, col=1: data=1.1, typename=FLOAT, align=right, str_len=3, integer_digits=1, decimal_places=1, additional_format_len=0\n",
      "row=0, col=2: data=aa, typename=STRING, align=left, str_len=2, integer_digits=nan, decimal_places=nan, additional_format_len=0\n",
      "row=0, col=3: data=1, typename=INT, align=right, str_len=1, integer_digits=1, decimal_places=0, additional_format_len=0\n",
      "row=0, col=4: data=1, typename=INT, align=right, str_len=1, integer_digits=1, decimal_places=0, additional_format_len=0\n",
      "row=1, col=0: data=2, typename=INT, align=right, str_len=1, integer_digits=1, decimal_places=0, additional_format_len=0\n",
      "row=1, col=1: data=2.2, typename=FLOAT, align=right, str_len=3, integer_digits=1, decimal_places=1, additional_format_len=0\n",
      "row=1, col=2: data=bbb, typename=STRING, align=left, str_len=3, integer_digits=nan, decimal_places=nan, additional_format_len=0\n",
      "row=1, col=3: data=2.2, typename=FLOAT, align=right, str_len=3, integer_digits=1, decimal_places=1, additional_format_len=0\n",
      "row=1, col=4: data=2.2, typename=FLOAT, align=right, str_len=3, integer_digits=1, decimal_places=1, additional_format_len=0\n",
      "row=2, col=0: data=3, typename=INT, align=right, str_len=1, integer_digits=1, decimal_places=0, additional_format_len=0\n",
      "row=2, col=1: data=3.33, typename=FLOAT, align=right, str_len=4, integer_digits=1, decimal_places=2, additional_format_len=0\n",
      "row=2, col=2: data=cccc, typename=STRING, align=left, str_len=4, integer_digits=nan, decimal_places=nan, additional_format_len=0\n",
      "row=2, col=3: data=-3, typename=INT, align=right, str_len=2, integer_digits=1, decimal_places=0, additional_format_len=1\n",
      "row=2, col=4: data=ccc, typename=STRING, align=left, str_len=3, integer_digits=nan, decimal_places=nan, additional_format_len=0\n"
     ]
    }
   ],
   "source": [
    "data_matrix = [\n",
    "    [1, 1.1, \"aa\",  1,   1],\n",
    "    [2, 2.2, \"bbb\", 2.2, 2.2],\n",
    "    [3, 3.33, \"cccc\", -3, \"ccc\"],\n",
    "]\n",
    "prop_matrix = PropertyExtractor.extract_data_property_matrix(data_matrix)\n",
    "\n",
    "for row, prop_list in enumerate(prop_matrix):\n",
    "    for col, prop in enumerate(prop_list):\n",
    "        six.print_(\"row=%d, col=%d: \" % (row, col) + str(prop))"
   ]
  },
  {
   "cell_type": "code",
   "execution_count": 9,
   "metadata": {
    "collapsed": false
   },
   "outputs": [
    {
     "name": "stdout",
     "output_type": "stream",
     "text": [
      "col=0: typename=INT, align=right, padding_len=3, integer_digits=(min=1, max=1), decimal_places=(min=None, max=None), additional_format_len=(min=0, max=0)\n",
      "col=1: typename=FLOAT, align=right, padding_len=5, integer_digits=(min=1, max=1), decimal_places=(min=1, max=2), additional_format_len=(min=0, max=0)\n",
      "col=2: typename=STRING, align=left, padding_len=4, integer_digits=(min=None, max=None), decimal_places=(min=None, max=None), additional_format_len=(min=0, max=0)\n",
      "col=3: typename=FLOAT, align=right, padding_len=3, integer_digits=(min=1, max=1), decimal_places=(min=1, max=1), additional_format_len=(min=0, max=1)\n",
      "col=4: typename=STRING, align=left, padding_len=3, integer_digits=(min=1, max=1), decimal_places=(min=1, max=1), additional_format_len=(min=0, max=0)\n"
     ]
    }
   ],
   "source": [
    "from dataproperty import PropertyExtractor, Typecode\n",
    "import six\n",
    "\n",
    "header_list = [\"int\", \"float\", \"str\", \"num\", \"mix\"]\n",
    "data_matrix = [\n",
    "    [1, 1.1, \"aa\",  1,   1],\n",
    "    [2, 2.2, \"bbb\", 2.2, 2.2],\n",
    "    [3, 3.33, \"cccc\", -3, \"ccc\"],\n",
    "]\n",
    "col_prop_list = PropertyExtractor.extract_column_property_list(header_list, data_matrix)\n",
    "\n",
    "for col, col_prop in enumerate(col_prop_list):\n",
    "    six.print_(\"col=%d: \" % (col) + str(col_prop))"
   ]
  },
  {
   "cell_type": "code",
   "execution_count": null,
   "metadata": {
    "collapsed": true
   },
   "outputs": [],
   "source": []
  }
 ],
 "metadata": {
  "kernelspec": {
   "display_name": "Python 2",
   "language": "python",
   "name": "python2"
  },
  "language_info": {
   "codemirror_mode": {
    "name": "ipython",
    "version": 2
   },
   "file_extension": ".py",
   "mimetype": "text/x-python",
   "name": "python",
   "nbconvert_exporter": "python",
   "pygments_lexer": "ipython2",
   "version": "2.7.10"
  }
 },
 "nbformat": 4,
 "nbformat_minor": 0
}
